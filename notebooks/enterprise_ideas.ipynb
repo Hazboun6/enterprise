{
 "cells": [
  {
   "cell_type": "code",
   "execution_count": 26,
   "metadata": {
    "collapsed": false
   },
   "outputs": [
    {
     "name": "stdout",
     "output_type": "stream",
     "text": [
      "Warning: cannot find astropy, units support will not be available.\n"
     ]
    }
   ],
   "source": [
    "import math\n",
    "import numpy as np\n",
    "import matplotlib.pyplot as pp\n",
    "% matplotlib inline\n",
    "\n",
    "import libstempo"
   ]
  },
  {
   "cell_type": "code",
   "execution_count": 117,
   "metadata": {
    "collapsed": true
   },
   "outputs": [],
   "source": [
    "# we'll use this throughout our tests\n",
    "psr = libstempo.tempopulsar('../2222.par','../2222.tim')"
   ]
  },
  {
   "cell_type": "code",
   "execution_count": null,
   "metadata": {
    "collapsed": true
   },
   "outputs": [],
   "source": []
  },
  {
   "cell_type": "code",
   "execution_count": 393,
   "metadata": {
    "collapsed": true
   },
   "outputs": [],
   "source": [
    "# I didn't have time to study your parameter implementation, so this is my own\n",
    "\n",
    "class Parameter(object):\n",
    "    def __init__(self,name):\n",
    "        self.name = name\n",
    "\n",
    "    # this trick lets us pass an instantiated parameter to a signal;\n",
    "    # the parameter will refuse to be renamed and will return itself\n",
    "    def __call__(self,name):\n",
    "        return self\n",
    "        \n",
    "# the following two are class *factories*: they return a customized class\n",
    "# then the actual parameters (with names) are obtained by instantiating the class\n",
    "\n",
    "def Uniform(pmin,pmax):\n",
    "    # this naive class definition can be improved with type, etc.\n",
    "    # but will be good enough for a demo\n",
    "    class Uniform(Parameter):\n",
    "        def pdf(self,p):\n",
    "            return 1.0 / (pmax - pmin) if (pmin < p < pmax) else 0.0\n",
    "                \n",
    "        def __repr__(self):\n",
    "            return '\"{}\":Uniform({},{})'.format(self.name,pmin,pmax)\n",
    "        \n",
    "    return Uniform\n",
    "\n",
    "def Normal(mu=0,sigma=1):\n",
    "    class Normal(Parameter):\n",
    "        norm = 1.0 / math.sqrt(2 * math.pi * sigma**2)\n",
    "        \n",
    "        def pdf(self,x):\n",
    "            return self.norm * math.exp(-0.5*(x - mu)**2/sigma**2)\n",
    "\n",
    "        def __repr__(self):\n",
    "            return '\"{}\":Normal({},{})'.format(self.name,mu,sigma)        \n",
    "        \n",
    "    return Normal\n",
    "\n",
    "class ConstantParameter(object):\n",
    "    def __repr__(self):\n",
    "        return '\"{}\":Constant={}'.format(self.name,self.value)        \n",
    "\n",
    "def Constant(val):\n",
    "    class Constant(Parameter,ConstantParameter):\n",
    "        value = val\n",
    "    \n",
    "    return Constant"
   ]
  },
  {
   "cell_type": "code",
   "execution_count": 394,
   "metadata": {
    "collapsed": false
   },
   "outputs": [
    {
     "data": {
      "text/plain": [
       "__main__.Uniform.<locals>.Uniform"
      ]
     },
     "execution_count": 394,
     "metadata": {},
     "output_type": "execute_result"
    }
   ],
   "source": [
    "# a uniformly distributed parameter\n",
    "u = Uniform(0,10)\n",
    "u"
   ]
  },
  {
   "cell_type": "code",
   "execution_count": 228,
   "metadata": {
    "collapsed": true
   },
   "outputs": [],
   "source": [
    "# instantiations of this parameter\n",
    "u1 = u('uniform1')\n",
    "u2 = u('uniform2')"
   ]
  },
  {
   "cell_type": "code",
   "execution_count": 229,
   "metadata": {
    "collapsed": false
   },
   "outputs": [
    {
     "data": {
      "text/plain": [
       "\"uniform1\":Uniform(0,10)"
      ]
     },
     "execution_count": 229,
     "metadata": {},
     "output_type": "execute_result"
    }
   ],
   "source": [
    "u1"
   ]
  },
  {
   "cell_type": "code",
   "execution_count": 230,
   "metadata": {
    "collapsed": false
   },
   "outputs": [
    {
     "data": {
      "text/plain": [
       "(0.1, 0.0)"
      ]
     },
     "execution_count": 230,
     "metadata": {},
     "output_type": "execute_result"
    }
   ],
   "source": [
    "u1.pdf(5), u1.pdf(-1)"
   ]
  },
  {
   "cell_type": "code",
   "execution_count": 231,
   "metadata": {
    "collapsed": false
   },
   "outputs": [],
   "source": [
    "n = Normal(2,5)"
   ]
  },
  {
   "cell_type": "code",
   "execution_count": 232,
   "metadata": {
    "collapsed": false
   },
   "outputs": [],
   "source": [
    "n1 = n('normal1')\n",
    "n2 = n('normal2')"
   ]
  },
  {
   "cell_type": "code",
   "execution_count": 233,
   "metadata": {
    "collapsed": false
   },
   "outputs": [
    {
     "data": {
      "text/plain": [
       "0.07978845608028654"
      ]
     },
     "execution_count": 233,
     "metadata": {},
     "output_type": "execute_result"
    }
   ],
   "source": [
    "n1.pdf(2)"
   ]
  },
  {
   "cell_type": "code",
   "execution_count": null,
   "metadata": {
    "collapsed": true
   },
   "outputs": [],
   "source": []
  },
  {
   "cell_type": "code",
   "execution_count": null,
   "metadata": {
    "collapsed": true
   },
   "outputs": [],
   "source": []
  },
  {
   "cell_type": "code",
   "execution_count": 578,
   "metadata": {
    "collapsed": false
   },
   "outputs": [],
   "source": [
    "# base signal class. Not much in it yet\n",
    "class Signal(object):\n",
    "    @property\n",
    "    def params(self):\n",
    "        # return only nonconstant parameters\n",
    "        return [par for par in self._params.values() if not isinstance(par,ConstantParameter)]\n",
    "\n",
    "    # note that we override the constant if parameter is given in dictionary?\n",
    "    def get(self,parname,params={}):\n",
    "        try:\n",
    "            return params[self._params[parname].name]\n",
    "        except KeyError:\n",
    "            return self._params[parname].value\n",
    "    \n",
    "    def ndiag(self,params):\n",
    "        return None\n",
    "    \n",
    "    def Fmat(self,params):\n",
    "        return None\n",
    "    \n",
    "    def Phivec(self,params):\n",
    "        return None\n",
    "    \n",
    "    def Phiinv(self,params):\n",
    "        return None"
   ]
  },
  {
   "cell_type": "code",
   "execution_count": 590,
   "metadata": {
    "collapsed": true
   },
   "outputs": [],
   "source": [
    "# make a collection of signals from a list of signal classes\n",
    "# (this is a factor; the scheme would work also by subclassing an existing\n",
    "# SignalCollection class that defines all these methods...)\n",
    "\n",
    "def SignalCollection(metasignals):\n",
    "    def __init__(self,psr):\n",
    "        # instantiate all the signals with a pulsar\n",
    "        self._signals = [metasignal(psr) for metasignal in self._metasignals]\n",
    "    \n",
    "    # we may consider defining __add__ also for instantiated signals. Why not... \n",
    "    \n",
    "    @property\n",
    "    def params(self):\n",
    "        # this would allow duplicates\n",
    "        # return set(param for signal in self._signals for param in signal.params)\n",
    "\n",
    "        # no duplicates, but expensive, so a candidate for memoization\n",
    "        ret = []\n",
    "        for signal in self._signals:\n",
    "            for param in signal.params:\n",
    "                if param not in ret:\n",
    "                    ret.append(param)\n",
    "        \n",
    "        return ret\n",
    "                    \n",
    "    # there may be a smarter way to write these...\n",
    "    \n",
    "    def ndiag(self,params):\n",
    "        ndiags = [signal.ndiag(params) for signal in self._signals]\n",
    "        return sum(ndiag for ndiag in ndiags if ndiag is not None)\n",
    "    \n",
    "    def Fmat(self,params):\n",
    "        Fmats = [signal.Fmat(params) for signal in self._signals]\n",
    "        return np.hstack(Fmat for Fmat in Fmats if Fmat is not None)\n",
    "    \n",
    "    def Phiinv(self,params):\n",
    "        Phiinvs = [signal.Phiinv(params) for signal in self._signals]\n",
    "        return np.hstack(Phiinv for Phiinv in Phiinvs if Phiinv is not None)    \n",
    "    \n",
    "    def Phivec(self,params):\n",
    "        Phivecs = [signal.Phivec(params) for signal in self._signals]\n",
    "        return np.hstack(Phivec for Phivec in Phivecs if Phivec is not None)\n",
    "    \n",
    "    return MetaCollection('SignalCollection',(),\n",
    "                          {'__init__': __init__,\n",
    "                           'params': params,\n",
    "                           'ndiag': ndiag,\n",
    "                           'Fmat': Fmat,\n",
    "                           'Phivec': Phivec,\n",
    "                           'Phiinv': Phiinv,\n",
    "                           '_metasignals': metasignals})"
   ]
  },
  {
   "cell_type": "code",
   "execution_count": 580,
   "metadata": {
    "collapsed": false
   },
   "outputs": [],
   "source": [
    "# since we wish to add Signal classes (not instances) together,\n",
    "# we need to make them with a custom metaclass that defines __add__\n",
    "\n",
    "class MetaSignal(type):\n",
    "    def __add__(self,other):\n",
    "        if isinstance(other,MetaSignal):\n",
    "            return SignalCollection([self,other])\n",
    "        elif isinstance(other,MetaCollection):\n",
    "            return SignalCollection([self] + other._metasignals)\n",
    "        else:\n",
    "            raise TypeError\n",
    "    \n",
    "class MetaCollection(type):\n",
    "    def __add__(self,other):\n",
    "        if isinstance(other,MetaSignal):\n",
    "            return SignalCollection(self._metasignals + [other])\n",
    "        elif isinstance(other,MetaCollection):\n",
    "            return SignalCollection(self._metasignals + other._metasignals)\n",
    "        else:\n",
    "            raise TypeError"
   ]
  },
  {
   "cell_type": "code",
   "execution_count": 581,
   "metadata": {
    "collapsed": false
   },
   "outputs": [],
   "source": [
    "# again, a factory that returns a customized class, reusable to generate\n",
    "# signal instances for many pulsars\n",
    "\n",
    "def MeasurementNoise(efac = Uniform(0.5,1.5)):\n",
    "    def __init__(self,psr):\n",
    "        self._params = {'efac': efac(psr.name + '_efac')}\n",
    "        self._ndiag = (psr.toaerrs*1e-6)**2\n",
    "\n",
    "    # here we assume that we pass all parameters to all the \"tensor\"\n",
    "    # methods of the instantiated signals. An alternative is to set\n",
    "    # a persistent value for each parameter. It's less functional,\n",
    "    # but (often) practicality beats purity\n",
    "    def ndiag(self,params):\n",
    "        return self.get('efac',params)**2 * self._ndiag\n",
    "\n",
    "    return MetaSignal('MeasurementNoise',(Signal,),\n",
    "                      {'__init__': __init__,\n",
    "                       'ndiag': ndiag})"
   ]
  },
  {
   "cell_type": "code",
   "execution_count": 582,
   "metadata": {
    "collapsed": true
   },
   "outputs": [],
   "source": [
    "def EquadNoise(log10_equad = Uniform(-10,-5)):\n",
    "    def __init__(self,psr):\n",
    "        self._params = {'log10_equad': log10_equad(psr.name + '_log10_equad')}\n",
    "        self._ndiag = np.ones_like(psr.toaerrs)\n",
    "\n",
    "    def ndiag(self,params):\n",
    "        return 10.0**(2*self.get('log10_equad',params)) * self._ndiag\n",
    "    \n",
    "    return MetaSignal('EquadNoise',(Signal,),\n",
    "                      {'__init__': __init__,\n",
    "                       'ndiag': ndiag})"
   ]
  },
  {
   "cell_type": "code",
   "execution_count": 427,
   "metadata": {
    "collapsed": true
   },
   "outputs": [],
   "source": [
    "w = MeasurementNoise()"
   ]
  },
  {
   "cell_type": "code",
   "execution_count": 428,
   "metadata": {
    "collapsed": false
   },
   "outputs": [],
   "source": [
    "w1 = w(psr)"
   ]
  },
  {
   "cell_type": "code",
   "execution_count": 429,
   "metadata": {
    "collapsed": false
   },
   "outputs": [
    {
     "data": {
      "text/plain": [
       "[\"J2222-0137_efac\":Uniform(0.5,1.5)]"
      ]
     },
     "execution_count": 429,
     "metadata": {},
     "output_type": "execute_result"
    }
   ],
   "source": [
    "w1.params"
   ]
  },
  {
   "cell_type": "code",
   "execution_count": 426,
   "metadata": {
    "collapsed": false
   },
   "outputs": [
    {
     "data": {
      "text/plain": [
       "3.7423676303999994e-10"
      ]
     },
     "execution_count": 426,
     "metadata": {},
     "output_type": "execute_result"
    }
   ],
   "source": [
    "w1.ndiag({'J2222-0137_efac': 1.0})[0]"
   ]
  },
  {
   "cell_type": "code",
   "execution_count": 405,
   "metadata": {
    "collapsed": false
   },
   "outputs": [
    {
     "data": {
      "text/plain": [
       "8.4203271683999982e-10"
      ]
     },
     "execution_count": 405,
     "metadata": {},
     "output_type": "execute_result"
    }
   ],
   "source": [
    "w1.ndiag({'J2222-0137_efac': 1.5})[0]"
   ]
  },
  {
   "cell_type": "code",
   "execution_count": 406,
   "metadata": {
    "collapsed": true
   },
   "outputs": [],
   "source": [
    "x = MeasurementNoise(efac=Normal(1,0.5))"
   ]
  },
  {
   "cell_type": "code",
   "execution_count": 407,
   "metadata": {
    "collapsed": true
   },
   "outputs": [],
   "source": [
    "x1 = x(psr)"
   ]
  },
  {
   "cell_type": "code",
   "execution_count": 408,
   "metadata": {
    "collapsed": false
   },
   "outputs": [
    {
     "data": {
      "text/plain": [
       "dict_values([\"J2222-0137_efac\":Normal(1,0.5)])"
      ]
     },
     "execution_count": 408,
     "metadata": {},
     "output_type": "execute_result"
    }
   ],
   "source": [
    "x1.params"
   ]
  },
  {
   "cell_type": "code",
   "execution_count": 409,
   "metadata": {
    "collapsed": true
   },
   "outputs": [],
   "source": [
    "e = EquadNoise()"
   ]
  },
  {
   "cell_type": "code",
   "execution_count": 410,
   "metadata": {
    "collapsed": false
   },
   "outputs": [],
   "source": [
    "# combining two signals!\n",
    "m = w + e"
   ]
  },
  {
   "cell_type": "code",
   "execution_count": 411,
   "metadata": {
    "collapsed": false
   },
   "outputs": [],
   "source": [
    "m1 = m(psr)"
   ]
  },
  {
   "cell_type": "code",
   "execution_count": 412,
   "metadata": {
    "collapsed": false
   },
   "outputs": [
    {
     "data": {
      "text/plain": [
       "[<__main__.MeasurementNoise at 0x10beece48>,\n",
       " <__main__.EquadNoise at 0x10beecf28>]"
      ]
     },
     "execution_count": 412,
     "metadata": {},
     "output_type": "execute_result"
    }
   ],
   "source": [
    "m1._signals"
   ]
  },
  {
   "cell_type": "code",
   "execution_count": 413,
   "metadata": {
    "collapsed": false
   },
   "outputs": [
    {
     "data": {
      "text/plain": [
       "[\"J2222-0137_efac\":Uniform(0.5,1.5), \"J2222-0137_log10_equad\":Uniform(-18,-14)]"
      ]
     },
     "execution_count": 413,
     "metadata": {},
     "output_type": "execute_result"
    }
   ],
   "source": [
    "m1.params"
   ]
  },
  {
   "cell_type": "code",
   "execution_count": 467,
   "metadata": {
    "collapsed": false
   },
   "outputs": [
    {
     "data": {
      "text/plain": [
       "array([  3.74246763e-10,   4.02774761e-10,   4.40598496e-10,\n",
       "         5.52282090e-10,   5.50119348e-10,   1.02202249e-09,\n",
       "         5.37079501e-10,   7.27822484e-10,   9.21946667e-10,\n",
       "         9.30356993e-10,   3.05599398e-11,   2.33997977e-11,\n",
       "         3.46914988e-11,   1.28701132e-11,   1.21719588e-11,\n",
       "         1.17173466e-11,   8.18672562e-11,   5.48070062e-11,\n",
       "         6.71205024e-11,   1.77442054e-11])"
      ]
     },
     "execution_count": 467,
     "metadata": {},
     "output_type": "execute_result"
    }
   ],
   "source": [
    "# I think the relative units are wrong, by the way.\n",
    "m1.ndiag({'J2222-0137_efac': 1.0,'J2222-0137_log10_equad': -7})[:20]"
   ]
  },
  {
   "cell_type": "code",
   "execution_count": null,
   "metadata": {
    "collapsed": true
   },
   "outputs": [],
   "source": []
  },
  {
   "cell_type": "code",
   "execution_count": 583,
   "metadata": {
    "collapsed": false
   },
   "outputs": [],
   "source": [
    "def Function(f,**kwargs):\n",
    "    class Function(object):\n",
    "        def __init__(self,prefix):\n",
    "            self._params = {kw: arg(prefix + '_' + kw) for kw,arg in kwargs.items()}\n",
    "        \n",
    "        def get(self,parname,params={}):\n",
    "            try:\n",
    "                return self._params[parname].value\n",
    "            except AttributeError:\n",
    "                return params[par.name]\n",
    "        \n",
    "        # params could also be a standard argument here,\n",
    "        # but by defining it as ** we allow multiple positional arguments\n",
    "        def __call__(self,*args,**params):\n",
    "            pardict = {}\n",
    "            for kw,par in self._params.items():\n",
    "                if par.name in params:\n",
    "                    pardict[kw] = params[par.name]\n",
    "                elif hasattr(par,'value'):\n",
    "                    pardict[kw] = par.value\n",
    "                # allow fallback to function default arguments\n",
    "                    \n",
    "            return f(*args,**pardict)\n",
    "        \n",
    "        @property\n",
    "        def params(self):\n",
    "            return [par for par in self._params.values() if not isinstance(par,ConstantParameter)]\n",
    "    \n",
    "    return Function"
   ]
  },
  {
   "cell_type": "code",
   "execution_count": 584,
   "metadata": {
    "collapsed": false
   },
   "outputs": [],
   "source": [
    "year = 365.25 * 24 * 3600\n",
    "\n",
    "import scipy.constants as sc\n",
    "\n",
    "year = sc.Julian_year\n",
    "f1yr = 1.0/year\n",
    "\n",
    "# unfortunately lambdas are not acceptable here because of the way we call them\n",
    "# a def is not too bad though; all sampling parameters must go in as keywords\n",
    "def powerlaw(f,log10_A=-16,gamma=5):\n",
    "    return (10**log10_A)**2 / 12.0 / np.pi**2 * f1yr**(gamma-3) * f**(-gamma)\n",
    "\n",
    "PowerLaw = Function(powerlaw,log10_A=Uniform(-18,-12),gamma=Uniform(1,7))"
   ]
  },
  {
   "cell_type": "code",
   "execution_count": 483,
   "metadata": {
    "collapsed": false
   },
   "outputs": [
    {
     "data": {
      "text/plain": [
       "__main__.Function.<locals>.Function"
      ]
     },
     "execution_count": 483,
     "metadata": {},
     "output_type": "execute_result"
    }
   ],
   "source": [
    "PowerLaw"
   ]
  },
  {
   "cell_type": "code",
   "execution_count": 484,
   "metadata": {
    "collapsed": false
   },
   "outputs": [],
   "source": [
    "pw = PowerLaw('J2222-0137')"
   ]
  },
  {
   "cell_type": "code",
   "execution_count": 485,
   "metadata": {
    "collapsed": false
   },
   "outputs": [
    {
     "data": {
      "text/plain": [
       "[\"J2222-0137_log10_A\":Uniform(-18,-12), \"J2222-0137_gamma\":Uniform(1,7)]"
      ]
     },
     "execution_count": 485,
     "metadata": {},
     "output_type": "execute_result"
    }
   ],
   "source": [
    "pw.params"
   ]
  },
  {
   "cell_type": "code",
   "execution_count": 486,
   "metadata": {
    "collapsed": false
   },
   "outputs": [
    {
     "data": {
      "text/plain": [
       "{'gamma': \"J2222-0137_gamma\":Uniform(1,7),\n",
       " 'log10_A': \"J2222-0137_log10_A\":Uniform(-18,-12)}"
      ]
     },
     "execution_count": 486,
     "metadata": {},
     "output_type": "execute_result"
    }
   ],
   "source": [
    "pw._params"
   ]
  },
  {
   "cell_type": "code",
   "execution_count": 487,
   "metadata": {
    "collapsed": false
   },
   "outputs": [
    {
     "data": {
      "text/plain": [
       "8.478344795653432e-15"
      ]
     },
     "execution_count": 487,
     "metadata": {},
     "output_type": "execute_result"
    }
   ],
   "source": [
    "# defaults are respected\n",
    "pw(1e-7,**{\"J2222-0137_log10_A\": -16})"
   ]
  },
  {
   "cell_type": "code",
   "execution_count": null,
   "metadata": {
    "collapsed": true
   },
   "outputs": [],
   "source": []
  },
  {
   "cell_type": "code",
   "execution_count": 585,
   "metadata": {
    "collapsed": true
   },
   "outputs": [],
   "source": [
    "def TimingModel():\n",
    "    def __init__(self,psr):\n",
    "        self._params = {}\n",
    "        \n",
    "        self._F = psr.designmatrix()\n",
    "        self._Phiinv = np.zeros(self._F.shape[1],'d')\n",
    "        \n",
    "    def Fmat(self,params=None):\n",
    "        return self._F\n",
    "    \n",
    "    def Phivec(self,params=None):\n",
    "        raise RuntimeError\n",
    "    \n",
    "    def Phiinv(self,params=None):\n",
    "        return self._Phiinv\n",
    "    \n",
    "    return MetaSignal('TimingModel',(Signal,),\n",
    "                      {'__init__': __init__,\n",
    "                       'Fmat': Fmat,\n",
    "                       'Phivec': Phivec,\n",
    "                       'Phiinv': Phiinv})"
   ]
  },
  {
   "cell_type": "code",
   "execution_count": 506,
   "metadata": {
    "collapsed": true
   },
   "outputs": [],
   "source": [
    "t = TimingModel()"
   ]
  },
  {
   "cell_type": "code",
   "execution_count": 507,
   "metadata": {
    "collapsed": false
   },
   "outputs": [],
   "source": [
    "t1 = t(psr)"
   ]
  },
  {
   "cell_type": "code",
   "execution_count": 508,
   "metadata": {
    "collapsed": false
   },
   "outputs": [
    {
     "data": {
      "text/plain": [
       "array([ 0.])"
      ]
     },
     "execution_count": 508,
     "metadata": {},
     "output_type": "execute_result"
    }
   ],
   "source": [
    "t1.Phiinv()"
   ]
  },
  {
   "cell_type": "code",
   "execution_count": null,
   "metadata": {
    "collapsed": true
   },
   "outputs": [],
   "source": []
  },
  {
   "cell_type": "code",
   "execution_count": 653,
   "metadata": {
    "collapsed": false
   },
   "outputs": [],
   "source": [
    "# start with marginalized only... my actual matrices may be wrong, since I did them very fast\n",
    "\n",
    "def FourierBasisGP(spectrum=None,components=20):\n",
    "    def __init__(self,psr):\n",
    "        self._spectrum = spectrum(psr.name)\n",
    "        self._params = self._spectrum._params\n",
    "\n",
    "        self._toas = psr.stoas\n",
    "\n",
    "        # should use a common epoch? no subtraction at all?\n",
    "        self._t = 86400.0 * (self._toas - np.min(self._toas))\n",
    "        self._T = np.max(self._t) - np.min(self._t)\n",
    "\n",
    "        self._f = np.arange(1,components+1) / self._T\n",
    "\n",
    "        self._f2 = np.zeros(2*len(self._f),'d')\n",
    "        self._f2[0::2] = self._f2[1::2] = self._f\n",
    "\n",
    "        self._F = np.zeros((len(self._t),2*len(self._f)),'d')\n",
    "        for i in range(components):\n",
    "            self._F[:,2*i]   = np.cos(2*math.pi*self._f[i]*self._t)\n",
    "            self._F[:,2*i+1] = np.sin(2*math.pi*self._f[i]*self._t)\n",
    "\n",
    "    def Fmat(self,params=None):\n",
    "        return self._F\n",
    "\n",
    "    # maybe we only need diagonal Phi?\n",
    "    def Phivec(self,params):\n",
    "        return self._spectrum(self._f2,**params)\n",
    "\n",
    "    def Phiinv(self,params):\n",
    "        return self._T / self._spectrum(self._f2,**params)\n",
    "    \n",
    "    return MetaSignal('FourierBasisGP',(Signal,),\n",
    "                      {'__init__': __init__,\n",
    "                       'Fmat': Fmat,\n",
    "                       'Phiinv': Phiinv,\n",
    "                       'Phivec': Phivec})\n",
    "\n",
    "def PowerLawRedNoise(components=20):\n",
    "    return FourierBasisGP(spectrum=PowerLaw,components=components)"
   ]
  },
  {
   "cell_type": "code",
   "execution_count": 488,
   "metadata": {
    "collapsed": true
   },
   "outputs": [],
   "source": [
    "f = FourierBasisGP(spectrum=PowerLaw)"
   ]
  },
  {
   "cell_type": "code",
   "execution_count": 489,
   "metadata": {
    "collapsed": true
   },
   "outputs": [],
   "source": [
    "f1 = f(psr)"
   ]
  },
  {
   "cell_type": "code",
   "execution_count": 490,
   "metadata": {
    "collapsed": false
   },
   "outputs": [
    {
     "data": {
      "text/plain": [
       "[\"J2222-0137_log10_A\":Uniform(-18,-12), \"J2222-0137_gamma\":Uniform(1,7)]"
      ]
     },
     "execution_count": 490,
     "metadata": {},
     "output_type": "execute_result"
    }
   ],
   "source": [
    "f1.params"
   ]
  },
  {
   "cell_type": "code",
   "execution_count": 491,
   "metadata": {
    "collapsed": false
   },
   "outputs": [
    {
     "data": {
      "text/plain": [
       "array([ 0.0010900472,  0.0021800945,  0.0032701417,  0.004360189,\n",
       "        0.0054502362,  0.0065402835,  0.0076303307,  0.008720378,\n",
       "        0.0098104252,  0.010900472,  0.01199052,  0.013080567,\n",
       "        0.014170614,  0.015260661,  0.016350709,  0.017440756,\n",
       "        0.018530803,  0.01962085,  0.020710898,  0.021800945], dtype=float128)"
      ]
     },
     "execution_count": 491,
     "metadata": {},
     "output_type": "execute_result"
    }
   ],
   "source": [
    "f1._f"
   ]
  },
  {
   "cell_type": "code",
   "execution_count": 492,
   "metadata": {
    "collapsed": false
   },
   "outputs": [],
   "source": [
    "fphi = f1.Phivec({\"J2222-0137_gamma\": 5, \"J2222-0137_log10_A\": -16})"
   ]
  },
  {
   "cell_type": "code",
   "execution_count": 493,
   "metadata": {
    "collapsed": true
   },
   "outputs": [],
   "source": [
    "n = m + f"
   ]
  },
  {
   "cell_type": "code",
   "execution_count": 494,
   "metadata": {
    "collapsed": true
   },
   "outputs": [],
   "source": [
    "n1 = n(psr)"
   ]
  },
  {
   "cell_type": "code",
   "execution_count": 495,
   "metadata": {
    "collapsed": false
   },
   "outputs": [
    {
     "data": {
      "text/plain": [
       "[\"J2222-0137_efac\":Uniform(0.5,1.5),\n",
       " \"J2222-0137_log10_equad\":Uniform(-18,-14),\n",
       " \"J2222-0137_log10_A\":Uniform(-18,-12),\n",
       " \"J2222-0137_gamma\":Uniform(1,7)]"
      ]
     },
     "execution_count": 495,
     "metadata": {},
     "output_type": "execute_result"
    }
   ],
   "source": [
    "n1.params"
   ]
  },
  {
   "cell_type": "code",
   "execution_count": 496,
   "metadata": {
    "collapsed": false
   },
   "outputs": [
    {
     "data": {
      "text/plain": [
       "(244,)"
      ]
     },
     "execution_count": 496,
     "metadata": {},
     "output_type": "execute_result"
    }
   ],
   "source": [
    "n1.ndiag({'J2222-0137_efac': 1.0,'J2222-0137_log10_equad': -16,\n",
    "         'J2222-0137_gamma': 5, 'J2222-0137_log10_A': -16}).shape"
   ]
  },
  {
   "cell_type": "code",
   "execution_count": 497,
   "metadata": {
    "collapsed": false
   },
   "outputs": [
    {
     "data": {
      "text/plain": [
       "(40,)"
      ]
     },
     "execution_count": 497,
     "metadata": {},
     "output_type": "execute_result"
    }
   ],
   "source": [
    "n1.Phivec({'J2222-0137_efac': 1.0,'J2222-0137_log10_equad': -16,\n",
    "           'J2222-0137_gamma': 5, 'J2222-0137_log10_A': -16}).shape"
   ]
  },
  {
   "cell_type": "code",
   "execution_count": 498,
   "metadata": {
    "collapsed": false
   },
   "outputs": [
    {
     "data": {
      "text/plain": [
       "(244, 40)"
      ]
     },
     "execution_count": 498,
     "metadata": {},
     "output_type": "execute_result"
    }
   ],
   "source": [
    "n1.Fmat({'J2222-0137_efac': 1.0,'J2222-0137_log10_equad': -16,\n",
    "         'J2222-0137_gamma': 5, 'J2222-0137_log10_A': -16}).shape"
   ]
  },
  {
   "cell_type": "code",
   "execution_count": null,
   "metadata": {
    "collapsed": true
   },
   "outputs": [],
   "source": []
  },
  {
   "cell_type": "code",
   "execution_count": 616,
   "metadata": {
    "collapsed": false
   },
   "outputs": [],
   "source": [
    "import scipy.linalg as sl\n",
    "\n",
    "class likelihood(object):\n",
    "    def __init__(self,psr,signals):\n",
    "        self._model = signals(psr)\n",
    "        \n",
    "        self._data = psr.residuals()\n",
    "        \n",
    "    @property\n",
    "    def params(self):\n",
    "        return self._model.params\n",
    "    \n",
    "    def parmap(self,xs):\n",
    "        return {par.name: x for par,x in zip(self.params,xs)}\n",
    "\n",
    "    # of course this can be massively optimized\n",
    "    def logl(self,xs):\n",
    "        params = self.parmap(xs)\n",
    "        \n",
    "        Nvec = self._model.ndiag(params)\n",
    "        Ninv = np.diag(1.0/Nvec)\n",
    "        \n",
    "        F = self._model.Fmat(params)\n",
    "        p = np.dot(F.T,self._data/Nvec)\n",
    "        \n",
    "        Phiinv = self._model.Phiinv(params)\n",
    "        K = Phiinv + np.dot(F.T,np.dot(Ninv,F)) # do better\n",
    "        cf = sl.cho_factor(K)\n",
    "        expval2 = sl.cho_solve(cf,p)\n",
    "        \n",
    "        logdetN = np.sum(np.log(Nvec))\n",
    "        logdetPhi = np.sum(np.log(Phiinv[Phiinv != 0]))\n",
    "        logdetK = np.sum(2*np.log(np.diag(cf[0])))\n",
    "\n",
    "        loglike = -0.5*(logdetN + logdetPhi + logdetK) + \\\n",
    "                  -0.5*np.sum(self._data**2/Nvec) + 0.5*np.dot(p,expval2)\n",
    "        \n",
    "        return loglike"
   ]
  },
  {
   "cell_type": "code",
   "execution_count": 523,
   "metadata": {
    "collapsed": false
   },
   "outputs": [],
   "source": [
    "testpsr = libstempo.tempopulsar('/Users/vallis/Documents/ipta/enterprise/tests/data/B1855+09_NANOGrav_11yv0.gls.par',\n",
    "                                '/Users/vallis/Documents/ipta/enterprise/tests/data/B1855+09_NANOGrav_11yv0.tim')"
   ]
  },
  {
   "cell_type": "code",
   "execution_count": 669,
   "metadata": {
    "collapsed": false
   },
   "outputs": [],
   "source": [
    "s = MeasurementNoise() + TimingModel() + FourierBasisGP(spectrum=PowerLaw)\n",
    "\n",
    "l = likelihood(testpsr,s)"
   ]
  },
  {
   "cell_type": "code",
   "execution_count": 670,
   "metadata": {
    "collapsed": false
   },
   "outputs": [
    {
     "data": {
      "text/plain": [
       "[\"B1855+09_efac\":Uniform(0.5,1.5),\n",
       " \"B1855+09_log10_A\":Uniform(-18,-12),\n",
       " \"B1855+09_gamma\":Uniform(1,7)]"
      ]
     },
     "execution_count": 670,
     "metadata": {},
     "output_type": "execute_result"
    }
   ],
   "source": [
    "l.params"
   ]
  },
  {
   "cell_type": "code",
   "execution_count": 671,
   "metadata": {
    "collapsed": false
   },
   "outputs": [
    {
     "ename": "LinAlgError",
     "evalue": "121-th leading minor not positive definite",
     "output_type": "error",
     "traceback": [
      "\u001b[0;31m---------------------------------------------------------------------------\u001b[0m",
      "\u001b[0;31mLinAlgError\u001b[0m                               Traceback (most recent call last)",
      "\u001b[0;32m<ipython-input-671-f573551855fe>\u001b[0m in \u001b[0;36m<module>\u001b[0;34m()\u001b[0m\n\u001b[0;32m----> 1\u001b[0;31m \u001b[0ml\u001b[0m\u001b[0;34m.\u001b[0m\u001b[0mlogl\u001b[0m\u001b[0;34m(\u001b[0m\u001b[0;34m[\u001b[0m\u001b[0;36m1\u001b[0m\u001b[0;34m,\u001b[0m\u001b[0;34m-\u001b[0m\u001b[0;36m16\u001b[0m\u001b[0;34m,\u001b[0m\u001b[0;36m5\u001b[0m\u001b[0;34m]\u001b[0m\u001b[0;34m)\u001b[0m\u001b[0;34m\u001b[0m\u001b[0m\n\u001b[0m",
      "\u001b[0;32m<ipython-input-616-8cbef662ea81>\u001b[0m in \u001b[0;36mlogl\u001b[0;34m(self, xs)\u001b[0m\n\u001b[1;32m     26\u001b[0m         \u001b[0mPhiinv\u001b[0m \u001b[0;34m=\u001b[0m \u001b[0mself\u001b[0m\u001b[0;34m.\u001b[0m\u001b[0m_model\u001b[0m\u001b[0;34m.\u001b[0m\u001b[0mPhiinv\u001b[0m\u001b[0;34m(\u001b[0m\u001b[0mparams\u001b[0m\u001b[0;34m)\u001b[0m\u001b[0;34m\u001b[0m\u001b[0m\n\u001b[1;32m     27\u001b[0m         \u001b[0mK\u001b[0m \u001b[0;34m=\u001b[0m \u001b[0mPhiinv\u001b[0m \u001b[0;34m+\u001b[0m \u001b[0mnp\u001b[0m\u001b[0;34m.\u001b[0m\u001b[0mdot\u001b[0m\u001b[0;34m(\u001b[0m\u001b[0mF\u001b[0m\u001b[0;34m.\u001b[0m\u001b[0mT\u001b[0m\u001b[0;34m,\u001b[0m\u001b[0mnp\u001b[0m\u001b[0;34m.\u001b[0m\u001b[0mdot\u001b[0m\u001b[0;34m(\u001b[0m\u001b[0mNinv\u001b[0m\u001b[0;34m,\u001b[0m\u001b[0mF\u001b[0m\u001b[0;34m)\u001b[0m\u001b[0;34m)\u001b[0m \u001b[0;31m# do better\u001b[0m\u001b[0;34m\u001b[0m\u001b[0m\n\u001b[0;32m---> 28\u001b[0;31m         \u001b[0mcf\u001b[0m \u001b[0;34m=\u001b[0m \u001b[0msl\u001b[0m\u001b[0;34m.\u001b[0m\u001b[0mcho_factor\u001b[0m\u001b[0;34m(\u001b[0m\u001b[0mK\u001b[0m\u001b[0;34m)\u001b[0m\u001b[0;34m\u001b[0m\u001b[0m\n\u001b[0m\u001b[1;32m     29\u001b[0m         \u001b[0mexpval2\u001b[0m \u001b[0;34m=\u001b[0m \u001b[0msl\u001b[0m\u001b[0;34m.\u001b[0m\u001b[0mcho_solve\u001b[0m\u001b[0;34m(\u001b[0m\u001b[0mcf\u001b[0m\u001b[0;34m,\u001b[0m\u001b[0mp\u001b[0m\u001b[0;34m)\u001b[0m\u001b[0;34m\u001b[0m\u001b[0m\n\u001b[1;32m     30\u001b[0m \u001b[0;34m\u001b[0m\u001b[0m\n",
      "\u001b[0;32m/Users/vallis/miniconda3/lib/python3.5/site-packages/scipy/linalg/decomp_cholesky.py\u001b[0m in \u001b[0;36mcho_factor\u001b[0;34m(a, lower, overwrite_a, check_finite)\u001b[0m\n\u001b[1;32m    130\u001b[0m     \"\"\"\n\u001b[1;32m    131\u001b[0m     c, lower = _cholesky(a, lower=lower, overwrite_a=overwrite_a, clean=False,\n\u001b[0;32m--> 132\u001b[0;31m                             check_finite=check_finite)\n\u001b[0m\u001b[1;32m    133\u001b[0m     \u001b[0;32mreturn\u001b[0m \u001b[0mc\u001b[0m\u001b[0;34m,\u001b[0m \u001b[0mlower\u001b[0m\u001b[0;34m\u001b[0m\u001b[0m\n\u001b[1;32m    134\u001b[0m \u001b[0;34m\u001b[0m\u001b[0m\n",
      "\u001b[0;32m/Users/vallis/miniconda3/lib/python3.5/site-packages/scipy/linalg/decomp_cholesky.py\u001b[0m in \u001b[0;36m_cholesky\u001b[0;34m(a, lower, overwrite_a, clean, check_finite)\u001b[0m\n\u001b[1;32m     28\u001b[0m     \u001b[0mc\u001b[0m\u001b[0;34m,\u001b[0m \u001b[0minfo\u001b[0m \u001b[0;34m=\u001b[0m \u001b[0mpotrf\u001b[0m\u001b[0;34m(\u001b[0m\u001b[0ma1\u001b[0m\u001b[0;34m,\u001b[0m \u001b[0mlower\u001b[0m\u001b[0;34m=\u001b[0m\u001b[0mlower\u001b[0m\u001b[0;34m,\u001b[0m \u001b[0moverwrite_a\u001b[0m\u001b[0;34m=\u001b[0m\u001b[0moverwrite_a\u001b[0m\u001b[0;34m,\u001b[0m \u001b[0mclean\u001b[0m\u001b[0;34m=\u001b[0m\u001b[0mclean\u001b[0m\u001b[0;34m)\u001b[0m\u001b[0;34m\u001b[0m\u001b[0m\n\u001b[1;32m     29\u001b[0m     \u001b[0;32mif\u001b[0m \u001b[0minfo\u001b[0m \u001b[0;34m>\u001b[0m \u001b[0;36m0\u001b[0m\u001b[0;34m:\u001b[0m\u001b[0;34m\u001b[0m\u001b[0m\n\u001b[0;32m---> 30\u001b[0;31m         \u001b[0;32mraise\u001b[0m \u001b[0mLinAlgError\u001b[0m\u001b[0;34m(\u001b[0m\u001b[0;34m\"%d-th leading minor not positive definite\"\u001b[0m \u001b[0;34m%\u001b[0m \u001b[0minfo\u001b[0m\u001b[0;34m)\u001b[0m\u001b[0;34m\u001b[0m\u001b[0m\n\u001b[0m\u001b[1;32m     31\u001b[0m     \u001b[0;32mif\u001b[0m \u001b[0minfo\u001b[0m \u001b[0;34m<\u001b[0m \u001b[0;36m0\u001b[0m\u001b[0;34m:\u001b[0m\u001b[0;34m\u001b[0m\u001b[0m\n\u001b[1;32m     32\u001b[0m         raise ValueError('illegal value in %d-th argument of internal potrf'\n",
      "\u001b[0;31mLinAlgError\u001b[0m: 121-th leading minor not positive definite"
     ]
    }
   ],
   "source": [
    "l.logl([1,-16,5])"
   ]
  },
  {
   "cell_type": "code",
   "execution_count": null,
   "metadata": {
    "collapsed": true
   },
   "outputs": [],
   "source": []
  }
 ],
 "metadata": {
  "anaconda-cloud": {},
  "kernelspec": {
   "display_name": "Python [conda root]",
   "language": "python",
   "name": "conda-root-py"
  },
  "language_info": {
   "codemirror_mode": {
    "name": "ipython",
    "version": 3
   },
   "file_extension": ".py",
   "mimetype": "text/x-python",
   "name": "python",
   "nbconvert_exporter": "python",
   "pygments_lexer": "ipython3",
   "version": "3.5.2"
  }
 },
 "nbformat": 4,
 "nbformat_minor": 0
}
