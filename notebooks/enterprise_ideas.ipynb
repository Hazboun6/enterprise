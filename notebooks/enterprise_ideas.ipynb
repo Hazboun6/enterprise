{
 "cells": [
  {
   "cell_type": "code",
   "execution_count": 22,
   "metadata": {
    "collapsed": false
   },
   "outputs": [],
   "source": [
    "import math\n",
    "import numpy as np\n",
    "import matplotlib.pyplot as pp\n",
    "% matplotlib inline\n",
    "\n",
    "import libstempo"
   ]
  },
  {
   "cell_type": "code",
   "execution_count": 33,
   "metadata": {
    "collapsed": true
   },
   "outputs": [],
   "source": [
    "# I didn't have time to study your parameter implementation, so this is my own\n",
    "\n",
    "class Parameter(object):\n",
    "    def __init__(self,name):\n",
    "        self.name = name\n",
    "\n",
    "# the following two are class *factories*: they return a customized class\n",
    "# then the actual parameters (with names) are obtained by instantiating the class\n",
    "\n",
    "def Uniform(pmin,pmax):\n",
    "    # this naive class definition can be improved with type, etc.\n",
    "    # but will be good enough for a demo\n",
    "    class Uniform(Parameter):\n",
    "        def pdf(self,p):\n",
    "            return 1.0 / (pmax - pmin) if (pmin < p < pmax) else 0.0\n",
    "                \n",
    "        def __repr__(self):\n",
    "            return '\"{}\":Uniform({},{})'.format(self.name,pmin,pmax)\n",
    "        \n",
    "    return Uniform\n",
    "\n",
    "def Normal(mu=0,sigma=1):\n",
    "    class Normal(Parameter):\n",
    "        norm = 1.0 / math.sqrt(2 * math.pi * sigma**2)\n",
    "        \n",
    "        def pdf(self,x):\n",
    "            return self.norm * math.exp(-0.5*(x - mu)**2/sigma**2)\n",
    "        \n",
    "    return Normal"
   ]
  },
  {
   "cell_type": "code",
   "execution_count": 16,
   "metadata": {
    "collapsed": false
   },
   "outputs": [
    {
     "data": {
      "text/plain": [
       "__main__.Uniform.<locals>.Uniform"
      ]
     },
     "execution_count": 16,
     "metadata": {},
     "output_type": "execute_result"
    }
   ],
   "source": [
    "# a uniformly distributed parameter\n",
    "u = Uniform(0,10)\n",
    "u"
   ]
  },
  {
   "cell_type": "code",
   "execution_count": 17,
   "metadata": {
    "collapsed": true
   },
   "outputs": [],
   "source": [
    "# instantiations of this parameter\n",
    "u1 = u('uniform1')\n",
    "u2 = u('uniform2')"
   ]
  },
  {
   "cell_type": "code",
   "execution_count": 18,
   "metadata": {
    "collapsed": false
   },
   "outputs": [
    {
     "data": {
      "text/plain": [
       "\"uniform1\":Uniform(0,10)"
      ]
     },
     "execution_count": 18,
     "metadata": {},
     "output_type": "execute_result"
    }
   ],
   "source": [
    "u1"
   ]
  },
  {
   "cell_type": "code",
   "execution_count": 20,
   "metadata": {
    "collapsed": false
   },
   "outputs": [
    {
     "data": {
      "text/plain": [
       "(0.1, 0.0)"
      ]
     },
     "execution_count": 20,
     "metadata": {},
     "output_type": "execute_result"
    }
   ],
   "source": [
    "u1.pdf(5), u1.pdf(-1)"
   ]
  },
  {
   "cell_type": "code",
   "execution_count": 34,
   "metadata": {
    "collapsed": false
   },
   "outputs": [],
   "source": [
    "n = Normal(2,5)"
   ]
  },
  {
   "cell_type": "code",
   "execution_count": 35,
   "metadata": {
    "collapsed": false
   },
   "outputs": [],
   "source": [
    "n1 = n('normal1')\n",
    "n2 = n('normal2')"
   ]
  },
  {
   "cell_type": "code",
   "execution_count": 36,
   "metadata": {
    "collapsed": false
   },
   "outputs": [
    {
     "data": {
      "text/plain": [
       "0.07978845608028654"
      ]
     },
     "execution_count": 36,
     "metadata": {},
     "output_type": "execute_result"
    }
   ],
   "source": [
    "n1.pdf(2)"
   ]
  },
  {
   "cell_type": "code",
   "execution_count": 37,
   "metadata": {
    "collapsed": true
   },
   "outputs": [],
   "source": [
    "# base signal class. Not much in it yet\n",
    "class Signal(object):\n",
    "    @property\n",
    "    def params(self):\n",
    "        return self._params.values()"
   ]
  },
  {
   "cell_type": "code",
   "execution_count": 38,
   "metadata": {
    "collapsed": false
   },
   "outputs": [],
   "source": [
    "# again, a factory that returns a customized class, reusable to generate\n",
    "# signal instances for many pulsars\n",
    "\n",
    "def MeasurementNoise(efac = Uniform(0.5,1.5)):\n",
    "    class MeasurementNoise(Signal):\n",
    "        def __init__(self,psr):\n",
    "            self._psr = psr\n",
    "            \n",
    "            self._params = {'efac': efac(psr.name + '_efac')}\n",
    "            self._ndiag = (psr.toaerrs*1e-6)**2\n",
    "\n",
    "        # here we assume that we pass all parameters to all the \"tensor\"\n",
    "        # methods of the instantiated signals. An alternative is to set\n",
    "        # a persistent value for each parameter. It's less functional,\n",
    "        # but (often) practicality beats purity\n",
    "        def ndiag(self,params):\n",
    "            return params[self._params['efac'].name]**2 * self._ndiag\n",
    "        \n",
    "    return MeasurementNoise"
   ]
  },
  {
   "cell_type": "code",
   "execution_count": null,
   "metadata": {
    "collapsed": true
   },
   "outputs": [],
   "source": [
    "def EquadNoise(log10_equad = Uniform(-18,-14)):\n",
    "    class EquadNoise(Signal):\n",
    "        def __init__(self,psr):\n",
    "            self._psr = psr\n",
    "            \n",
    "            self._params = {'log10_equad': log10_equad(psr.name + '_log10_equad')}\n",
    "            self._ndiag = np.ones_like(psr.toaerrs)\n",
    "\n",
    "        def ndiag(self,params):\n",
    "            return 10.0**(2*params[self._params['log10_equad'].name]) * self._ndiag\n",
    "        \n",
    "    return EquadNoise"
   ]
  },
  {
   "cell_type": "code",
   "execution_count": 39,
   "metadata": {
    "collapsed": true
   },
   "outputs": [],
   "source": [
    "w = MeasurementNoise()"
   ]
  },
  {
   "cell_type": "code",
   "execution_count": 40,
   "metadata": {
    "collapsed": true
   },
   "outputs": [],
   "source": [
    "psr = libstempo.tempopulsar('../2222.par','../2222.tim')"
   ]
  },
  {
   "cell_type": "code",
   "execution_count": 41,
   "metadata": {
    "collapsed": false
   },
   "outputs": [],
   "source": [
    "w1 = w(psr)"
   ]
  },
  {
   "cell_type": "code",
   "execution_count": 42,
   "metadata": {
    "collapsed": false
   },
   "outputs": [
    {
     "data": {
      "text/plain": [
       "dict_values([\"J2222-0137_efac\":Uniform(0.5,1.5)])"
      ]
     },
     "execution_count": 42,
     "metadata": {},
     "output_type": "execute_result"
    }
   ],
   "source": [
    "w1.params"
   ]
  },
  {
   "cell_type": "code",
   "execution_count": 50,
   "metadata": {
    "collapsed": false
   },
   "outputs": [
    {
     "data": {
      "text/plain": [
       "3.7423676303999994e-10"
      ]
     },
     "execution_count": 50,
     "metadata": {},
     "output_type": "execute_result"
    }
   ],
   "source": [
    "w1.ndiag({'J2222-0137_efac': 1.0})[0]"
   ]
  },
  {
   "cell_type": "code",
   "execution_count": 51,
   "metadata": {
    "collapsed": false
   },
   "outputs": [
    {
     "data": {
      "text/plain": [
       "8.4203271683999982e-10"
      ]
     },
     "execution_count": 51,
     "metadata": {},
     "output_type": "execute_result"
    }
   ],
   "source": [
    "w1.ndiag({'J2222-0137_efac': 1.5})[0]"
   ]
  },
  {
   "cell_type": "code",
   "execution_count": 46,
   "metadata": {
    "collapsed": true
   },
   "outputs": [],
   "source": [
    "x = MeasurementNoise(efac=Normal(1,0.5))"
   ]
  },
  {
   "cell_type": "code",
   "execution_count": 47,
   "metadata": {
    "collapsed": true
   },
   "outputs": [],
   "source": [
    "x1 = x(psr)"
   ]
  },
  {
   "cell_type": "code",
   "execution_count": 48,
   "metadata": {
    "collapsed": false
   },
   "outputs": [
    {
     "data": {
      "text/plain": [
       "dict_values([<__main__.Normal.<locals>.Normal object at 0x1164d1fd0>])"
      ]
     },
     "execution_count": 48,
     "metadata": {},
     "output_type": "execute_result"
    }
   ],
   "source": [
    "x1.params"
   ]
  },
  {
   "cell_type": "code",
   "execution_count": null,
   "metadata": {
    "collapsed": true
   },
   "outputs": [],
   "source": []
  },
  {
   "cell_type": "code",
   "execution_count": 132,
   "metadata": {
    "collapsed": false
   },
   "outputs": [],
   "source": [
    "def Function(f,**kwargs):\n",
    "    class Function(object):\n",
    "        def __init__(self,prefix):\n",
    "            self._params = {kw: arg(prefix + '_' + kw) for kw,arg in kwargs.items()}\n",
    "        \n",
    "        # params could also be a standard argument here,\n",
    "        # but by defining it as ** we allow multiple positional arguments\n",
    "        def __call__(self,*args,**params):\n",
    "            pardict = {kw: params[par.name] for kw,par in self._params.items()\n",
    "                                            if par.name in params}\n",
    "            return f(*args,**pardict)\n",
    "        \n",
    "        @property\n",
    "        def params(self):\n",
    "            return self._params.values()\n",
    "    \n",
    "    return Function"
   ]
  },
  {
   "cell_type": "code",
   "execution_count": 133,
   "metadata": {
    "collapsed": true
   },
   "outputs": [],
   "source": [
    "year = 365.25 * 24 * 3600\n",
    "\n",
    "# unfortunately lambdas are not acceptable here because of the way we call them\n",
    "# a def is not too bad though\n",
    "def powerlaw(f,log10_A=-16,gamma=5):\n",
    "    return (10**log10_A) * (f*year)**(-gamma)\n",
    "\n",
    "PowerLaw = Function(powerlaw,log10_A=Uniform(-18,-12),gamma=Uniform(1,7))"
   ]
  },
  {
   "cell_type": "code",
   "execution_count": 134,
   "metadata": {
    "collapsed": false
   },
   "outputs": [
    {
     "data": {
      "text/plain": [
       "__main__.Function.<locals>.Function"
      ]
     },
     "execution_count": 134,
     "metadata": {},
     "output_type": "execute_result"
    }
   ],
   "source": [
    "PowerLaw"
   ]
  },
  {
   "cell_type": "code",
   "execution_count": 135,
   "metadata": {
    "collapsed": false
   },
   "outputs": [],
   "source": [
    "pw = PowerLaw('J2222-0137')"
   ]
  },
  {
   "cell_type": "code",
   "execution_count": 136,
   "metadata": {
    "collapsed": false
   },
   "outputs": [
    {
     "data": {
      "text/plain": [
       "dict_values([\"J2222-0137_gamma\":Uniform(1,7), \"J2222-0137_log10_A\":Uniform(-18,-12)])"
      ]
     },
     "execution_count": 136,
     "metadata": {},
     "output_type": "execute_result"
    }
   ],
   "source": [
    "pw.params"
   ]
  },
  {
   "cell_type": "code",
   "execution_count": 137,
   "metadata": {
    "collapsed": false
   },
   "outputs": [
    {
     "data": {
      "text/plain": [
       "{'gamma': \"J2222-0137_gamma\":Uniform(1,7),\n",
       " 'log10_A': \"J2222-0137_log10_A\":Uniform(-18,-12)}"
      ]
     },
     "execution_count": 137,
     "metadata": {},
     "output_type": "execute_result"
    }
   ],
   "source": [
    "pw._params"
   ]
  },
  {
   "cell_type": "code",
   "execution_count": 144,
   "metadata": {
    "collapsed": false
   },
   "outputs": [
    {
     "data": {
      "text/plain": [
       "3.1950684338930047e-19"
      ]
     },
     "execution_count": 144,
     "metadata": {},
     "output_type": "execute_result"
    }
   ],
   "source": [
    "pw(1e-7,**{'J2222-0137_gamma': 5,\"J2222-0137_log10_A\": -16})"
   ]
  },
  {
   "cell_type": "code",
   "execution_count": 145,
   "metadata": {
    "collapsed": false
   },
   "outputs": [
    {
     "data": {
      "text/plain": [
       "3.1950684338930047e-19"
      ]
     },
     "execution_count": 145,
     "metadata": {},
     "output_type": "execute_result"
    }
   ],
   "source": [
    "# defaults are respected\n",
    "pw(1e-7,**{\"J2222-0137_log10_A\": -16})"
   ]
  },
  {
   "cell_type": "code",
   "execution_count": null,
   "metadata": {
    "collapsed": true
   },
   "outputs": [],
   "source": []
  },
  {
   "cell_type": "code",
   "execution_count": 165,
   "metadata": {
    "collapsed": false
   },
   "outputs": [],
   "source": [
    "# start with marginalized only... my actual matrices may be wrong, since I did them very fast\n",
    "\n",
    "def FourierBasisGP(spectrum=None,components=20):\n",
    "    class FourierBasisGP(Signal):\n",
    "        def __init__(self,psr):\n",
    "            self._psr = psr\n",
    "\n",
    "            self._spectrum = spectrum(psr.name)\n",
    "            self._params = self._spectrum._params\n",
    "\n",
    "            self._toas = psr.stoas\n",
    "\n",
    "            # should use a common epoch? no subtraction at all?\n",
    "            self._t = 86400.0 * (self._toas - np.min(self._toas))\n",
    "            self._T = np.max(self._toas) - np.min(self._toas)\n",
    "            \n",
    "            self._f = np.arange(1,components+1) / self._T\n",
    "            \n",
    "            self._f2 = np.zeros(2*len(self._f),'d')\n",
    "            self._f2[0::2] = self._f2[1::2] = self._f\n",
    "            \n",
    "            self._F = np.zeros((len(self._t),2*len(self._f)),'d')\n",
    "            for i in range(components):\n",
    "                self._F[:,2*i]   = np.cos(2*math.pi*self._f[i]*self._t)\n",
    "                self._F[:,2*i+1] = np.sin(2*math.pi*self._f[i]*self._t)\n",
    "                    \n",
    "        def Fmat(self,params=None):\n",
    "            return self._F\n",
    "        \n",
    "        # maybe we only need diagonal Phi?\n",
    "        def Phivec(self,params):\n",
    "            return self._spectrum(self._f2,**params)\n",
    "    \n",
    "    return FourierBasisGP"
   ]
  },
  {
   "cell_type": "code",
   "execution_count": 171,
   "metadata": {
    "collapsed": true
   },
   "outputs": [],
   "source": [
    "f = FourierBasisGP(spectrum=PowerLaw)"
   ]
  },
  {
   "cell_type": "code",
   "execution_count": 167,
   "metadata": {
    "collapsed": true
   },
   "outputs": [],
   "source": [
    "f1 = f(psr)"
   ]
  },
  {
   "cell_type": "code",
   "execution_count": 168,
   "metadata": {
    "collapsed": false
   },
   "outputs": [
    {
     "data": {
      "text/plain": [
       "dict_values([\"J2222-0137_gamma\":Uniform(1,7), \"J2222-0137_log10_A\":Uniform(-18,-12)])"
      ]
     },
     "execution_count": 168,
     "metadata": {},
     "output_type": "execute_result"
    }
   ],
   "source": [
    "f1.params"
   ]
  },
  {
   "cell_type": "code",
   "execution_count": 169,
   "metadata": {
    "collapsed": false
   },
   "outputs": [
    {
     "data": {
      "text/plain": [
       "array([ 0.0010900472,  0.0021800945,  0.0032701417,  0.004360189,\n",
       "        0.0054502362,  0.0065402835,  0.0076303307,  0.008720378,\n",
       "        0.0098104252,  0.010900472,  0.01199052,  0.013080567,\n",
       "        0.014170614,  0.015260661,  0.016350709,  0.017440756,\n",
       "        0.018530803,  0.01962085,  0.020710898,  0.021800945], dtype=float128)"
      ]
     },
     "execution_count": 169,
     "metadata": {},
     "output_type": "execute_result"
    }
   ],
   "source": [
    "f1._f"
   ]
  },
  {
   "cell_type": "code",
   "execution_count": 170,
   "metadata": {
    "collapsed": false
   },
   "outputs": [
    {
     "data": {
      "text/plain": [
       "array([  2.07612527e-39,   2.07612527e-39,   6.48789146e-41,\n",
       "         6.48789146e-41,   8.54372538e-42,   8.54372538e-42,\n",
       "         2.02746608e-42,   2.02746608e-42,   6.64360086e-43,\n",
       "         6.64360086e-43,   2.66991418e-43,   2.66991418e-43,\n",
       "         1.23527415e-43,   1.23527415e-43,   6.33583151e-44,\n",
       "         6.33583151e-44,   3.51593637e-44,   3.51593637e-44,\n",
       "         2.07612527e-44,   2.07612527e-44,   1.28911045e-44,\n",
       "         1.28911045e-44,   8.34348182e-45,   8.34348182e-45,\n",
       "         5.59160897e-45,   5.59160897e-45,   3.86023173e-45,\n",
       "         3.86023173e-45,   2.73399212e-45,   2.73399212e-45,\n",
       "         1.97994735e-45,   1.97994735e-45,   1.46220730e-45,\n",
       "         1.46220730e-45,   1.09873012e-45,   1.09873012e-45,\n",
       "         8.38466179e-46,   8.38466179e-46,   6.48789146e-46,\n",
       "         6.48789146e-46])"
      ]
     },
     "execution_count": 170,
     "metadata": {},
     "output_type": "execute_result"
    }
   ],
   "source": [
    "f1.Phivec({\"J2222-0137_gamma\": 5, \"J2222-0137_log10_A\": -16})"
   ]
  }
 ],
 "metadata": {
  "anaconda-cloud": {},
  "kernelspec": {
   "display_name": "Python [conda root]",
   "language": "python",
   "name": "conda-root-py"
  },
  "language_info": {
   "codemirror_mode": {
    "name": "ipython",
    "version": 3
   },
   "file_extension": ".py",
   "mimetype": "text/x-python",
   "name": "python",
   "nbconvert_exporter": "python",
   "pygments_lexer": "ipython3",
   "version": "3.5.2"
  }
 },
 "nbformat": 4,
 "nbformat_minor": 0
}
