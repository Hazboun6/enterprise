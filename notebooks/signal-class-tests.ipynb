{
 "cells": [
  {
   "cell_type": "code",
   "execution_count": null,
   "metadata": {
    "collapsed": false
   },
   "outputs": [],
   "source": [
    "from __future__ import (absolute_import, division,\n",
    "                        print_function, unicode_literals)\n",
    "\n",
    "import numpy as np\n",
    "from enterprise.signals.parameter import Parameter\n",
    "import matplotlib.pyplot as plt"
   ]
  },
  {
   "cell_type": "code",
   "execution_count": null,
   "metadata": {
    "collapsed": true
   },
   "outputs": [],
   "source": [
    "import george\n",
    "import gaussproc\n",
    "from gaussproc import *\n",
    "import cPickle as pickle"
   ]
  },
  {
   "cell_type": "code",
   "execution_count": null,
   "metadata": {
    "collapsed": false
   },
   "outputs": [],
   "source": [
    "pickle_path = '../enterprise/datafiles/starsecc_gp_13x14nodes_30yr.pkl'\n",
    "gppkl = pickle.load( open( pickle_path, \"rb\" ) )\n",
    "\n",
    "# Set george kernel parameters to previously-trained MAP\n",
    "# Compute factorisation of kernel based on sampled points\n",
    "gp = []\n",
    "for ii in range(len(gppkl)):\n",
    "    gp_kparams = np.exp(gppkl[ii].kernel_map)\n",
    "    gp.append( george.GP( gp_kparams[0] * \\\n",
    "                          george.kernels.ExpSquaredKernel(gp_kparams[1:],ndim=len(gp_kparams[1:])) ) )\n",
    "    gp[ii].compute(gppkl[ii].x, gppkl[ii].yerr)\n",
    "    gwb_popparam_ndims = len(gp_kparams[1:])\n",
    "\n",
    "gwb_popparam = pickle_path.split('/')[-1].split('_')\n",
    "for word in gwb_popparam:\n",
    "    if word in ['stars','ecc','gas','starsecc']:\n",
    "        gwb_popparam = word\n",
    "        break"
   ]
  },
  {
   "cell_type": "code",
   "execution_count": null,
   "metadata": {
    "collapsed": true
   },
   "outputs": [],
   "source": [
    "class PSD(object):\n",
    "    \n",
    "    # This is a dict containing all defined PSD instances,\n",
    "    # keyed on the name of the pdf type, e.g. powerlaw.\n",
    "    _registry = {}\n",
    "    \n",
    "    def __new__(cls, name, *args, **kwargs):\n",
    "        # Generates a new PSD object instance, and adds it\n",
    "        # it the registry, using name as the key.  Name must be unique,\n",
    "        # a new instance with a given name will over-write the existing\n",
    "        # one.\n",
    "        psd = super(PSD, cls).__new__(cls, name, *args, **kwargs)\n",
    "        cls._register(psd, name)\n",
    "        return psd\n",
    "    \n",
    "    def __init__(self, name):\n",
    "        self.params = []\n",
    "    \n",
    "    @classmethod\n",
    "    def _register(cls, psd, name):\n",
    "        \"\"\"Add a psd to the registry using the specified name\n",
    "        (which will be converted to lower case).  If an existing psd\n",
    "        of the same name exists, it will be replaced with the new one.  \n",
    "        The PSD instance's name attribute will be updated for\n",
    "        consistency.\"\"\"\n",
    "        cls._registry[name.lower()] = psd\n",
    "        psd._name = name.lower()\n",
    "        \n",
    "    @classmethod\n",
    "    def names(cls):\n",
    "        return cls._registry.keys()\n",
    "        \n",
    "    @property\n",
    "    def name(self): return self._name\n",
    "\n",
    "    @classmethod\n",
    "    def get(cls, name):\n",
    "       \n",
    "        # Be case-insensitive\n",
    "        name = name.lower()\n",
    "        # First see if name matches\n",
    "        if name in cls._registry.keys(): \n",
    "            return cls._registry[name]\n",
    "        # Nothing matched, raise an error\n",
    "        raise KeyError(\"PSD name '%s' is not defined\" % name)\n",
    "        \n",
    "    def add_param(self, param):\n",
    "        setattr(self, param.name, param)\n",
    "        self.params += [param]\n",
    "        \n",
    "    def get_params(self):\n",
    "        return np.array([param.value for param in self.params])\n",
    "        \n",
    "    def get_psd(self, f):\n",
    "        \"\"\"Must be defined in derived class\"\"\"\n",
    "        raise NotImplementedError"
   ]
  },
  {
   "cell_type": "code",
   "execution_count": null,
   "metadata": {
    "collapsed": false
   },
   "outputs": [],
   "source": [
    "class PowerLawSpectrum(PSD):\n",
    "        \n",
    "    def __init__(self, name):\n",
    "        super(PowerLawSpectrum, self).__init__(name)\n",
    "    \n",
    "        self.add_param(Parameter('A', -15.0, uncertainty=0.1,\n",
    "                                 description='Red Noise Amplitude [log-scale]'))\n",
    "        self.add_param(Parameter('gamma', 4.33, uncertainty=0.1,\n",
    "                                 description='Red Noise Spectral index'))\n",
    "    \n",
    "    def get_psd(self, f):\n",
    "        df = f[0]\n",
    "        f1yr = 1 / 3.16e7\n",
    "        Amp = 10**self.A.value\n",
    "        gamma = self.gamma.value\n",
    "        psd = Amp ** 2 / 12 / np.pi ** 2 * f1yr ** (gamma - 3) * f ** (-gamma) * df\n",
    "        return psd"
   ]
  },
  {
   "cell_type": "code",
   "execution_count": null,
   "metadata": {
    "collapsed": true
   },
   "outputs": [],
   "source": [
    "class TurnoverSpectrum(PSD):\n",
    "        \n",
    "    def __init__(self, name):\n",
    "        super(TurnoverSpectrum, self).__init__(name)\n",
    "    \n",
    "        self.add_param(Parameter('A', -15.0, uncertainty=0.1,\n",
    "                                 description='Red Noise Amplitude [log-scale]'))\n",
    "        self.add_param(Parameter('gamma', 4.33, uncertainty=0.1,\n",
    "                                 description='Red Noise Spectral index'))\n",
    "        self.add_param(Parameter('fbend', 1e-8, uncertainty=0.1,\n",
    "                                 description='Spectral bend frequency'))\n",
    "        self.add_param(Parameter('kappaturn', 7.0/3.0, uncertainty=0.1,\n",
    "                                 description='Slope of low-frequency spectrum'))\n",
    "    \n",
    "    def get_psd(self, f):\n",
    "        df = f[0]\n",
    "        f1yr = 1 / 3.16e7\n",
    "        Amp = 10**self.A.value\n",
    "        gamma = self.gamma.value\n",
    "        fbend = self.fbend.value\n",
    "        kappaturn = self.kappaturn.value\n",
    "        psd = ( Amp ** 2 / 12 / np.pi ** 2 * f1yr ** (gamma - 3) * f ** (-gamma) * df \n",
    "               / ( 1.0 + (fbend / f) ** kappaturn) )\n",
    "        return psd"
   ]
  },
  {
   "cell_type": "code",
   "execution_count": null,
   "metadata": {
    "collapsed": true
   },
   "outputs": [],
   "source": [
    "class GPSpectrum(PSD):\n",
    "        \n",
    "    def __init__(self, name, nf):\n",
    "        super(GPSpectrum, self).__init__(name)\n",
    "        self.nf = nf\n",
    "    \n",
    "        for ii in range(nf):\n",
    "            self.add_param(Parameter('psd_white_'+str(ii), 0.0, uncertainty=0.1,\n",
    "                                     description='Zero-mean unit-variance Gaussian draw'))\n",
    "        self.add_param(Parameter('A', -15.0, uncertainty=0.1,\n",
    "                                description='Red Noise Amplitude [log-scale]'))\n",
    "        self.add_param(Parameter('rho_stars', 4.0, uncertainty=0.1,\n",
    "                                 description='Mass density of stars in galactic center [Log-scale]'))\n",
    "        self.add_param(Parameter('ecc', 0.5, uncertainty=0.1,\n",
    "                                 description='Initial eccentricity of SMBHBs'))\n",
    "    \n",
    "    def get_psd(self, f, gp):\n",
    "        df = f[0]\n",
    "        f1yr = 1 / 3.16e7\n",
    "        psd_white = self.get_params()[:self.nf]\n",
    "        Amp = 10**self.A.value\n",
    "        rho_stars = self.rho_stars.value\n",
    "        ecc = self.ecc.value\n",
    "        env_param = np.array([rho_stars, ecc])\n",
    "        \n",
    "        rho_pred = np.zeros((len(f),2))\n",
    "        for ii in range(len(f)):\n",
    "            mu_pred, cov_pred = gp[ii].predict(gppkl[ii].y, [env_param])\n",
    "            if np.diag(cov_pred) < 0.0:\n",
    "                rho_pred[ii,0], rho_pred[ii,1] = mu_pred, 1e-5 * mu_pred\n",
    "            else:\n",
    "                rho_pred[ii,0], rho_pred[ii,1] = mu_pred, np.sqrt(np.diag(cov_pred))\n",
    "\n",
    "        # transforming from zero-mean unit-variance variable to rho\n",
    "        psd = ( 2.0*np.log10(Amp) - np.log10(12.0 * np.pi ** 2 * f ** 3) + \n",
    "               np.log10(df) + psd_white*rho_pred[:,1] + rho_pred[:,0] )\n",
    "        psd = 10.0**psd\n",
    "        return psd"
   ]
  },
  {
   "cell_type": "code",
   "execution_count": null,
   "metadata": {
    "collapsed": false
   },
   "outputs": [],
   "source": [
    "# call this to register (could go in an __init__.py)      \n",
    "PowerLawSpectrum('powerlaw')"
   ]
  },
  {
   "cell_type": "code",
   "execution_count": null,
   "metadata": {
    "collapsed": false
   },
   "outputs": [],
   "source": [
    "# call this to register (could go in an __init__.py)      \n",
    "TurnoverSpectrum('turnover')"
   ]
  },
  {
   "cell_type": "code",
   "execution_count": null,
   "metadata": {
    "collapsed": false
   },
   "outputs": [],
   "source": [
    "GPSpectrum('gpspectrum',len(gp))"
   ]
  },
  {
   "cell_type": "code",
   "execution_count": null,
   "metadata": {
    "collapsed": false
   },
   "outputs": [],
   "source": [
    "# test\n",
    "psd1 = PSD.get('powerlaw')\n",
    "psd2 = PSD.get('gpspectrum')"
   ]
  },
  {
   "cell_type": "code",
   "execution_count": null,
   "metadata": {
    "collapsed": true
   },
   "outputs": [],
   "source": [
    "T = 30 * 3.16e7\n",
    "f = np.linspace(1/T, psd2.nf/T, psd2.nf)"
   ]
  },
  {
   "cell_type": "code",
   "execution_count": null,
   "metadata": {
    "collapsed": false
   },
   "outputs": [],
   "source": [
    "# change the value\n",
    "psd1.A.value = -15.5\n",
    "psd1.gamma.value = 13./3.\n",
    "\n",
    "# diffuse stellar environment \n",
    "# and zero eccentricity\n",
    "psd2.A.value = -15.5\n",
    "psd2.rho_stars.value = 1.0\n",
    "psd2.ecc.value = 0.0\n",
    "\n",
    "plt.loglog(f, psd1.get_psd(f))\n",
    "plt.loglog(f, psd2.get_psd(f, gp))\n",
    "plt.show()"
   ]
  },
  {
   "cell_type": "code",
   "execution_count": null,
   "metadata": {
    "collapsed": true
   },
   "outputs": [],
   "source": []
  }
 ],
 "metadata": {
  "kernelspec": {
   "display_name": "Python 2",
   "language": "python",
   "name": "python2"
  },
  "language_info": {
   "codemirror_mode": {
    "name": "ipython",
    "version": 2
   },
   "file_extension": ".py",
   "mimetype": "text/x-python",
   "name": "python",
   "nbconvert_exporter": "python",
   "pygments_lexer": "ipython2",
   "version": "2.7.9"
  }
 },
 "nbformat": 4,
 "nbformat_minor": 2
}
